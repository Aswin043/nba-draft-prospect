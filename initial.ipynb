{
 "cells": [
  {
   "cell_type": "markdown",
   "id": "6caa4b92",
   "metadata": {},
   "source": [
    "# From Draft to Stardom: Predicting NBA Success from College and Combine Stats"
   ]
  },
  {
   "cell_type": "markdown",
   "id": "95a8feec",
   "metadata": {},
   "source": [
    "### Goal: Predict whether a drafted NBA player becomes an All-Star, starter, or bench player using pre-draft data."
   ]
  },
  {
   "cell_type": "code",
   "execution_count": null,
   "id": "2a93c487",
   "metadata": {},
   "outputs": [],
   "source": [
    "## this is a test to check the api \n",
    "\n",
    "from nba_api.stats.endpoints import playercareerstats\n",
    "\n",
    "# Nikola Jokić\n",
    "career = playercareerstats.PlayerCareerStats(player_id='203999') \n",
    "\n",
    "# pandas data frames (optional: pip install pandas)\n",
    "career.get_data_frames()[0]"
   ]
  },
  {
   "cell_type": "code",
   "execution_count": null,
   "id": "dd70b3f6",
   "metadata": {},
   "outputs": [],
   "source": [
    "## NBA endpoints needed \n",
    "/DraftHistory\n",
    "/DraftCombineStats\n"
   ]
  },
  {
   "cell_type": "code",
   "execution_count": null,
   "id": "9ced7b38",
   "metadata": {},
   "outputs": [],
   "source": []
  }
 ],
 "metadata": {
  "kernelspec": {
   "display_name": "Python 3",
   "language": "python",
   "name": "python3"
  },
  "language_info": {
   "codemirror_mode": {
    "name": "ipython",
    "version": 3
   },
   "file_extension": ".py",
   "mimetype": "text/x-python",
   "name": "python",
   "nbconvert_exporter": "python",
   "pygments_lexer": "ipython3",
   "version": "3.10.18"
  }
 },
 "nbformat": 4,
 "nbformat_minor": 5
}
